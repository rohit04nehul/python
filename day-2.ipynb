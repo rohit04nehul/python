{
 "cells": [
  {
   "cell_type": "markdown",
   "id": "2ef643c0",
   "metadata": {},
   "source": [
    "1.Operators"
   ]
  },
  {
   "cell_type": "markdown",
   "id": "5df549b8",
   "metadata": {},
   "source": [
    "Operators in Python are symbols used to perform operations on variables and values. \n",
    "\n",
    "Arithmetic Operators – Perform mathematical operations like +, -, *, /, %, **, //.\n",
    "\n",
    "Comparison Operators – Compare values using ==, !=, >, <, >=, <=.\n",
    "\n",
    "Logical Operators – Combine conditions using and, or, not.\n",
    "\n",
    "Assignment Operators – Assign and update values using =, +=, -=, *=, /=, etc.\n",
    "\n",
    "Bitwise Operators – Operate on bits using &, |, ^, ~, <<, >>.\n",
    "\n",
    "Membership Operators – Test for membership using in, not in.\n",
    "\n",
    "Identity Operators – Check object identity using is, is not."
   ]
  },
  {
   "cell_type": "code",
   "execution_count": 1,
   "id": "81b95765",
   "metadata": {},
   "outputs": [
    {
     "name": "stdout",
     "output_type": "stream",
     "text": [
      "11\n",
      "-1\n",
      "30\n",
      "0.6\n",
      "2\n",
      "8\n",
      "0\n"
     ]
    }
   ],
   "source": [
    "# arithmetic operators\n",
    "print(5 + 6)     # Addition: 5 + 6 = 11\n",
    "print(5 - 6)     # Subtraction: 5 - 6 = -1\n",
    "print(5 * 6)     # Multiplication: 5 * 6 = 30\n",
    "print(3 / 5)     # Division: 3 / 5 = 0.6 (float division)\n",
    "print(2 % 7)     # Modulus: 2 % 7 = 2 (remainder)\n",
    "print(2 ** 3)    # Exponentiation: 2 raised to the power 3 = 8\n",
    "print(3 // 5)    # Floor Division: 3 // 5 = 0 (quotient without decimal)"
   ]
  },
  {
   "cell_type": "code",
   "execution_count": 2,
   "id": "fc9fc68e",
   "metadata": {},
   "outputs": [
    {
     "name": "stdout",
     "output_type": "stream",
     "text": [
      "True\n",
      "False\n",
      "True\n",
      "True\n",
      "True\n",
      "True\n"
     ]
    }
   ],
   "source": [
    "# relational (comparison) operators\n",
    "print(5 > 3)    # True, because 5 is greater than 3\n",
    "print(5 < 3)    # False, because 5 is not less than 3\n",
    "print(5 == 5)   # True, because both values are equal\n",
    "print(5 != 3)   # True, because 5 is not equal to 3\n",
    "print(5 >= 5)   # True, because 5 is greater than or equal to 5\n",
    "print(3 <= 5)   # True, because 3 is less than or equal to 5"
   ]
  },
  {
   "cell_type": "code",
   "execution_count": 3,
   "id": "009bb839",
   "metadata": {},
   "outputs": [
    {
     "name": "stdout",
     "output_type": "stream",
     "text": [
      "True\n",
      "False\n",
      "True\n",
      "False\n",
      "False\n",
      "True\n"
     ]
    }
   ],
   "source": [
    "# logical operators\n",
    "print(True and True)     # and: True only if both are True → True\n",
    "print(True and False)    # and: One is False → False\n",
    "print(False or True)     # or: At least one is True → True\n",
    "print(False or False)    # or: Both are False → False\n",
    "print(not True)          # not: Reverses True → False\n",
    "print(not False)         # not: Reverses False → True"
   ]
  },
  {
   "cell_type": "code",
   "execution_count": 4,
   "id": "0b1db1f1",
   "metadata": {},
   "outputs": [
    {
     "name": "stdout",
     "output_type": "stream",
     "text": [
      "1\n",
      "7\n",
      "6\n",
      "-6\n",
      "10\n",
      "2\n"
     ]
    }
   ],
   "source": [
    "# bitwise operators\n",
    "print(5 & 3)     # AND: 0101 & 0011 = 0001 → 1\n",
    "print(5 | 3)     # OR:  0101 | 0011 = 0111 → 7\n",
    "print(5 ^ 3)     # XOR: 0101 ^ 0011 = 0110 → 6\n",
    "print(~5)        # NOT: ~0101 = -(0101 + 1) = -6 (2's complement)\n",
    "print(5 << 1)    # Left Shift: 0101 << 1 = 1010 → 10 (multiply by 2)\n",
    "print(5 >> 1)    # Right Shift: 0101 >> 1 = 0010 → 2 (divide by 2)"
   ]
  },
  {
   "cell_type": "code",
   "execution_count": 5,
   "id": "217cfcaa",
   "metadata": {},
   "outputs": [
    {
     "name": "stdout",
     "output_type": "stream",
     "text": [
      "8\n",
      "6\n",
      "24\n",
      "4.0\n",
      "1.0\n",
      "1.0\n",
      "0.0\n"
     ]
    }
   ],
   "source": [
    "# assignment operators\n",
    "a = 5           # Assign: a = 5\n",
    "a += 3          # Add and assign: a = a + 3 → 8\n",
    "print(a)\n",
    "\n",
    "a -= 2          # Subtract and assign: a = a - 2 → 6\n",
    "print(a)\n",
    "\n",
    "a *= 4          # Multiply and assign: a = a * 4 → 24\n",
    "print(a)\n",
    "\n",
    "a /= 6          # Divide and assign: a = a / 6 → 4.0\n",
    "print(a)\n",
    "\n",
    "a %= 3          # Modulus and assign: a = a % 3 → 1.0\n",
    "print(a)\n",
    "\n",
    "a **= 2         # Exponent and assign: a = a ** 2 → 1.0\n",
    "print(a)\n",
    "\n",
    "a //= 2         # Floor divide and assign: a = a // 2 → 0.0\n",
    "print(a)"
   ]
  },
  {
   "cell_type": "code",
   "execution_count": 6,
   "id": "e0e40012",
   "metadata": {},
   "outputs": [
    {
     "name": "stdout",
     "output_type": "stream",
     "text": [
      "6\n",
      "5\n"
     ]
    }
   ],
   "source": [
    "# a++ and ++a are not valid in Python\n",
    "# Python does not support the increment (++) or decrement (--) operators like C/C++\n",
    "# Instead, use a += 1 for increment and a -= 1 for decrement\n",
    "\n",
    "a = 5\n",
    "a += 1  # Correct way to increment → a becomes 6\n",
    "print(a)\n",
    "\n",
    "a -= 1  # Correct way to decrement → a becomes 5 again\n",
    "print(a)"
   ]
  },
  {
   "cell_type": "code",
   "execution_count": 7,
   "id": "8bb629c2",
   "metadata": {},
   "outputs": [
    {
     "name": "stdout",
     "output_type": "stream",
     "text": [
      "True\n",
      "False\n",
      "True\n",
      "False\n"
     ]
    }
   ],
   "source": [
    "#Membership Operator\n",
    "\n",
    "# in / not in\n",
    "\n",
    "x = [1, 2, 3, 4, 5]\n",
    "\n",
    "print(3 in x)       # True, because 3 is in the list\n",
    "print(6 in x)       # False, because 6 is not in the list\n",
    "print(7 not in x)   # True, because 7 is not in the list\n",
    "print(2 not in x)   # False, because 2 is in the list\n"
   ]
  },
  {
   "cell_type": "code",
   "execution_count": 8,
   "id": "1d241bd4",
   "metadata": {},
   "outputs": [
    {
     "name": "stdout",
     "output_type": "stream",
     "text": [
      "True\n"
     ]
    }
   ],
   "source": [
    "print('D' in 'Delhi')"
   ]
  },
  {
   "cell_type": "code",
   "execution_count": 9,
   "id": "a7597095",
   "metadata": {},
   "outputs": [
    {
     "name": "stdout",
     "output_type": "stream",
     "text": [
      "True\n"
     ]
    }
   ],
   "source": [
    "print('F' not in 'Delhi')"
   ]
  },
  {
   "cell_type": "code",
   "execution_count": 10,
   "id": "7072e9e1",
   "metadata": {},
   "outputs": [
    {
     "name": "stdout",
     "output_type": "stream",
     "text": [
      "False\n"
     ]
    }
   ],
   "source": [
    "print(1 in [2,3,4,5,6])\n",
    "\n",
    "\n",
    "# works with all data types"
   ]
  },
  {
   "cell_type": "code",
   "execution_count": 11,
   "id": "104a9888",
   "metadata": {},
   "outputs": [
    {
     "name": "stdout",
     "output_type": "stream",
     "text": [
      "15\n"
     ]
    }
   ],
   "source": [
    "# Program - Find the sum of a 3-digit number entered by the user\n",
    "\n",
    "number = int(input('Enter a 3 digit number'))\n",
    "\n",
    "# 345 % 10  -> 5\n",
    "a = number % 10\n",
    "number = number // 10\n",
    "\n",
    "# 345 % 10  -> 4\n",
    "b = number % 10 \n",
    "number = number // 10\n",
    "\n",
    "# 345 % 10  -> 3\n",
    "c = number % 10\n",
    "\n",
    "\n",
    "print(a + b + c )\n"
   ]
  },
  {
   "cell_type": "markdown",
   "id": "82befb52",
   "metadata": {},
   "source": [
    "2. If Else in Python\n",
    "\n",
    "\n",
    "if-else in Python is a control structure that executes one block of code if a condition is true, and another block if it's false."
   ]
  },
  {
   "cell_type": "code",
   "execution_count": 12,
   "id": "38af345e",
   "metadata": {},
   "outputs": [
    {
     "name": "stdout",
     "output_type": "stream",
     "text": [
      "Welcome\n"
     ]
    }
   ],
   "source": [
    "# login program and identation\n",
    "\n",
    "# email - > rohit@gmail.com\n",
    "# password - > 1234\n",
    "\n",
    "\n",
    "email = input('Enter email')\n",
    "password = input('Enter password')\n",
    "\n",
    "if  email == 'rohit@gmail.com' and password == '1234':\n",
    "    print('Welcome')\n",
    "\n",
    "else :\n",
    "   print('Incorrect')"
   ]
  },
  {
   "cell_type": "code",
   "execution_count": 13,
   "id": "a3a0456d",
   "metadata": {},
   "outputs": [
    {
     "name": "stdout",
     "output_type": "stream",
     "text": [
      "Incorrect email\n"
     ]
    }
   ],
   "source": [
    "# login program with indentation\n",
    "\n",
    "# email -> rohit@gmail.com\n",
    "# password -> 1234\n",
    "\n",
    "email = input('Enter email: ')\n",
    "password = input('Enter password: ')\n",
    "\n",
    "if email == 'rohit@gmail.com' and password == '1234':\n",
    "    print('Welcome')\n",
    "\n",
    "elif email == 'rohit@gmail.com' and password != '1234':\n",
    "    print(\"Password is wrong\")\n",
    "\n",
    "    password = input('Enter password again: ')\n",
    "\n",
    "    if password == '1234': \n",
    "        print('Welcome, finally....')\n",
    "    else:\n",
    "        print('Not allowed at all..........')\n",
    "\n",
    "else:\n",
    "    print('Incorrect email')\n"
   ]
  },
  {
   "cell_type": "code",
   "execution_count": 14,
   "id": "891b7dd6",
   "metadata": {},
   "outputs": [
    {
     "name": "stdout",
     "output_type": "stream",
     "text": [
      "c is smallest = 1\n"
     ]
    }
   ],
   "source": [
    "# min of 3 number\n",
    "\n",
    "a = int(input('First Number'))\n",
    "b = int(input('Second Number'))\n",
    "c = int(input('Third Number'))\n",
    "\n",
    "if a<b and a<c :\n",
    "    print( 'a is smallest =' , a )\n",
    "elif b<c :\n",
    "    print( 'b is smallest =' , b ) \n",
    "else :\n",
    "    print('c is smallest =' , c )        "
   ]
  },
  {
   "cell_type": "code",
   "execution_count": 15,
   "id": "4f158ab6",
   "metadata": {},
   "outputs": [
    {
     "name": "stdout",
     "output_type": "stream",
     "text": [
      "0.6071428571428571\n"
     ]
    }
   ],
   "source": [
    "# menu driven calculator\n",
    "\n",
    "fnum = int(input('Enter the First Number'))\n",
    "snum = int(input('Enter the Second Number'))\n",
    "\n",
    "op = input('Enter the operation')\n",
    "\n",
    "if op == '+':\n",
    "    print(fnum + snum)\n",
    "\n",
    "elif op == '-':\n",
    "    print(fnum - snum)\n",
    "\n",
    "elif op == '*':\n",
    "    print(fnum * snum)\n",
    "\n",
    "else:\n",
    "    print(fnum / snum)\n",
    "\n",
    "\n"
   ]
  },
  {
   "cell_type": "markdown",
   "id": "ce668ad4",
   "metadata": {},
   "source": [
    "Modules in Python\n",
    "\n",
    "A module in Python is a file containing Python code (functions, classes, or variables) that can be imported and reused in other Python programs.\n",
    "\n",
    "📁 Typically, it's a .py file.\n",
    "\n",
    "- math\n",
    "- keywords\n",
    "- random\n",
    "- datetime\n"
   ]
  },
  {
   "cell_type": "code",
   "execution_count": 16,
   "id": "f847b2d9",
   "metadata": {},
   "outputs": [
    {
     "data": {
      "text/plain": [
       "120"
      ]
     },
     "execution_count": 16,
     "metadata": {},
     "output_type": "execute_result"
    }
   ],
   "source": [
    "#math\n",
    "import math\n",
    "\n",
    "math.factorial(5)"
   ]
  },
  {
   "cell_type": "code",
   "execution_count": 17,
   "id": "6a40d925",
   "metadata": {},
   "outputs": [
    {
     "data": {
      "text/plain": [
       "6"
      ]
     },
     "execution_count": 17,
     "metadata": {},
     "output_type": "execute_result"
    }
   ],
   "source": [
    "math.floor(6.8)"
   ]
  },
  {
   "cell_type": "code",
   "execution_count": 18,
   "id": "87bd2dd6",
   "metadata": {},
   "outputs": [
    {
     "data": {
      "text/plain": [
       "14.0"
      ]
     },
     "execution_count": 18,
     "metadata": {},
     "output_type": "execute_result"
    }
   ],
   "source": [
    "math.sqrt(196)"
   ]
  },
  {
   "cell_type": "code",
   "execution_count": 19,
   "id": "27ac8b07",
   "metadata": {},
   "outputs": [
    {
     "name": "stdout",
     "output_type": "stream",
     "text": [
      "['False', 'None', 'True', 'and', 'as', 'assert', 'async', 'await', 'break', 'class', 'continue', 'def', 'del', 'elif', 'else', 'except', 'finally', 'for', 'from', 'global', 'if', 'import', 'in', 'is', 'lambda', 'nonlocal', 'not', 'or', 'pass', 'raise', 'return', 'try', 'while', 'with', 'yield']\n"
     ]
    }
   ],
   "source": [
    "#keyword\n",
    "\n",
    "import keyword\n",
    "print(keyword.kwlist)"
   ]
  },
  {
   "cell_type": "code",
   "execution_count": 20,
   "id": "c6efd77e",
   "metadata": {},
   "outputs": [
    {
     "name": "stdout",
     "output_type": "stream",
     "text": [
      "45\n"
     ]
    }
   ],
   "source": [
    "#random\n",
    "\n",
    "import random\n",
    "\n",
    "print(random.randint(1,100))"
   ]
  },
  {
   "cell_type": "code",
   "execution_count": 21,
   "id": "49f3452c",
   "metadata": {},
   "outputs": [
    {
     "name": "stdout",
     "output_type": "stream",
     "text": [
      "2025-06-19 18:16:52.139031\n"
     ]
    }
   ],
   "source": [
    "#datetime\n",
    "\n",
    "import datetime\n",
    "\n",
    "print(datetime.datetime.now())"
   ]
  },
  {
   "cell_type": "markdown",
   "id": "1f9984d1",
   "metadata": {},
   "source": [
    "Loops in Python\n",
    "\n",
    "Loops are used to repeat a block of code multiple times. Python supports two main types of loops:\n",
    "\n",
    "- while loop = Repeats as long as a condition is True.\n",
    "- for loop = Used to iterate over a sequence (like list, string, range, etc.).\n",
    "\n",
    "\n",
    ".\n",
    ".\n",
    ".\n",
    "\n",
    "Optional: break, continue, else\n",
    "break – Exit the loop early.\n",
    "\n",
    "continue – Skip the current iteration.\n",
    "\n",
    "else – Runs after loop ends normally (not by break)."
   ]
  },
  {
   "cell_type": "code",
   "execution_count": 22,
   "id": "30cb10fb",
   "metadata": {},
   "outputs": [
    {
     "name": "stdout",
     "output_type": "stream",
     "text": [
      "34 * 1 = 34\n",
      "34 * 2 = 68\n",
      "34 * 3 = 102\n",
      "34 * 4 = 136\n",
      "34 * 5 = 170\n",
      "34 * 6 = 204\n",
      "34 * 7 = 238\n",
      "34 * 8 = 272\n",
      "34 * 9 = 306\n",
      "34 * 10 = 340\n"
     ]
    }
   ],
   "source": [
    "# while loop\n",
    "\n",
    "# code to print table\n",
    "number = int(input('Enter the number'))\n",
    "\n",
    "i = 1\n",
    "\n",
    "while i<11:\n",
    "    print(number , '*' , i , '=' , number * i)\n",
    "    i += 1\n",
    "    \n"
   ]
  },
  {
   "cell_type": "code",
   "execution_count": 23,
   "id": "876d202e",
   "metadata": {},
   "outputs": [
    {
     "name": "stdout",
     "output_type": "stream",
     "text": [
      "1\n",
      "2\n",
      "limit crossed\n"
     ]
    }
   ],
   "source": [
    "# while loop with else \n",
    "\n",
    "x = 1 \n",
    "while x < 3:\n",
    "    print(x)\n",
    "    x += 1\n",
    "\n",
    "else:\n",
    "    print('limit crossed')    "
   ]
  },
  {
   "cell_type": "code",
   "execution_count": 24,
   "id": "896afd12",
   "metadata": {},
   "outputs": [
    {
     "name": "stdout",
     "output_type": "stream",
     "text": [
      "galat! Guess higher\n",
      "galat! Guess Lower\n",
      "galat! Guess higher\n",
      "galat! Guess higher\n",
      "galat! Guess higher\n",
      "galat! Guess higher\n",
      "galat! Guess higher\n",
      "correct guess\n",
      "attempts 8\n"
     ]
    }
   ],
   "source": [
    "# guessing game\n",
    "\n",
    "# generate a random integer between 1 and 100\n",
    "\n",
    "import random\n",
    "jackpot = random.randint(1,100)\n",
    "\n",
    "guess = int(input('guess karo'))\n",
    "\n",
    "counter = 1\n",
    "while guess != jackpot:\n",
    "\n",
    "    if guess < jackpot :\n",
    "        print('galat! Guess higher')\n",
    "    else :\n",
    "        print('galat! Guess Lower')  \n",
    "\n",
    "    guess = int(input('guess karo'))  \n",
    "    counter += 1    \n",
    "\n",
    "else :\n",
    "    print('correct guess')\n",
    "    print('attempts',counter)\n"
   ]
  },
  {
   "cell_type": "code",
   "execution_count": 25,
   "id": "defe8738",
   "metadata": {},
   "outputs": [
    {
     "name": "stdout",
     "output_type": "stream",
     "text": [
      "1\n",
      "2\n",
      "3\n",
      "4\n",
      "5\n",
      "6\n",
      "7\n",
      "8\n",
      "9\n",
      "10\n"
     ]
    }
   ],
   "source": [
    "# for loop\n",
    "\n",
    "for i in range(1,11):\n",
    "    print(i)"
   ]
  },
  {
   "cell_type": "code",
   "execution_count": 26,
   "id": "b72cc6c3",
   "metadata": {},
   "outputs": [
    {
     "name": "stdout",
     "output_type": "stream",
     "text": [
      "1\n",
      "3\n",
      "5\n",
      "7\n",
      "9\n"
     ]
    }
   ],
   "source": [
    "# for loop (step-size)\n",
    "\n",
    "for i in range(1,11,2):\n",
    "    print(i)"
   ]
  },
  {
   "cell_type": "code",
   "execution_count": 27,
   "id": "76e6649d",
   "metadata": {},
   "outputs": [
    {
     "name": "stdout",
     "output_type": "stream",
     "text": [
      "10\n",
      "9\n",
      "8\n",
      "7\n",
      "6\n",
      "5\n",
      "4\n",
      "3\n",
      "2\n",
      "1\n"
     ]
    }
   ],
   "source": [
    "for i in range(10,0,-1):\n",
    "    print(i)\n"
   ]
  },
  {
   "cell_type": "code",
   "execution_count": 28,
   "id": "95785636",
   "metadata": {},
   "outputs": [
    {
     "name": "stdout",
     "output_type": "stream",
     "text": [
      "D\n",
      "e\n",
      "l\n",
      "h\n",
      "i\n"
     ]
    }
   ],
   "source": [
    "for i in 'Delhi':\n",
    "    print(i)"
   ]
  },
  {
   "cell_type": "code",
   "execution_count": 29,
   "id": "f32381d4",
   "metadata": {},
   "outputs": [
    {
     "name": "stdout",
     "output_type": "stream",
     "text": [
      "1\n",
      "2\n",
      "3\n",
      "4\n",
      "5\n"
     ]
    }
   ],
   "source": [
    "for i in {1,2,3,4,5}:\n",
    "    print(i)"
   ]
  },
  {
   "cell_type": "markdown",
   "id": "20144eb7",
   "metadata": {},
   "source": [
    "Q ) Program - The current population of a town is 10000 . The population of the town is increasing at the rate of 10% per year. You have to write a program to find out the population at the end of the last 10 years."
   ]
  },
  {
   "cell_type": "code",
   "execution_count": 30,
   "id": "ac397688",
   "metadata": {},
   "outputs": [
    {
     "name": "stdout",
     "output_type": "stream",
     "text": [
      "10 10000\n",
      "9 9000.0\n",
      "8 8100.0\n",
      "7 7290.0\n",
      "6 6561.0\n",
      "5 5904.9\n",
      "4 5314.41\n",
      "3 4782.969\n",
      "2 4304.6721\n",
      "1 3874.20489\n"
     ]
    }
   ],
   "source": [
    "curr_pop = 10000\n",
    "\n",
    "for i in range(10,0,-1):\n",
    "    print(i,curr_pop)\n",
    "\n",
    "    curr_pop = curr_pop - 0.1 * curr_pop"
   ]
  },
  {
   "cell_type": "code",
   "execution_count": null,
   "id": "1ffc2e08",
   "metadata": {},
   "outputs": [],
   "source": []
  }
 ],
 "metadata": {
  "kernelspec": {
   "display_name": "base",
   "language": "python",
   "name": "python3"
  },
  "language_info": {
   "codemirror_mode": {
    "name": "ipython",
    "version": 3
   },
   "file_extension": ".py",
   "mimetype": "text/x-python",
   "name": "python",
   "nbconvert_exporter": "python",
   "pygments_lexer": "ipython3",
   "version": "3.12.4"
  }
 },
 "nbformat": 4,
 "nbformat_minor": 5
}
