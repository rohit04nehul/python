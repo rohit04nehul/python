{
 "cells": [
  {
   "cell_type": "markdown",
   "id": "12b199f7",
   "metadata": {},
   "source": [
    "1. Python Output"
   ]
  },
  {
   "cell_type": "code",
   "execution_count": 6,
   "id": "c2e09df7",
   "metadata": {},
   "outputs": [
    {
     "name": "stdout",
     "output_type": "stream",
     "text": [
      "Hello World\n"
     ]
    }
   ],
   "source": [
    "#Python is Case - Sensitive Language\n",
    "print('Hello World')"
   ]
  },
  {
   "cell_type": "code",
   "execution_count": 1,
   "id": "7f27f1cb",
   "metadata": {},
   "outputs": [
    {
     "name": "stdout",
     "output_type": "stream",
     "text": [
      "7\n"
     ]
    }
   ],
   "source": [
    "print(7)"
   ]
  },
  {
   "cell_type": "code",
   "execution_count": 2,
   "id": "e559bd9b",
   "metadata": {},
   "outputs": [
    {
     "name": "stdout",
     "output_type": "stream",
     "text": [
      "True\n"
     ]
    }
   ],
   "source": [
    "print(True)"
   ]
  },
  {
   "cell_type": "code",
   "execution_count": 5,
   "id": "0289f2e1",
   "metadata": {},
   "outputs": [
    {
     "name": "stdout",
     "output_type": "stream",
     "text": [
      "Hello 1 4.5 True\n"
     ]
    }
   ],
   "source": [
    "print('Hello',1,4.5,True)"
   ]
  },
  {
   "cell_type": "code",
   "execution_count": 8,
   "id": "5cded4c7",
   "metadata": {},
   "outputs": [
    {
     "name": "stdout",
     "output_type": "stream",
     "text": [
      "Hello/1/4.5/True\n"
     ]
    }
   ],
   "source": [
    "print('Hello',1,4.5,True,sep='/')"
   ]
  },
  {
   "cell_type": "code",
   "execution_count": 9,
   "id": "b8e573c7",
   "metadata": {},
   "outputs": [
    {
     "name": "stdout",
     "output_type": "stream",
     "text": [
      "hello\n",
      "world\n"
     ]
    }
   ],
   "source": [
    "print('hello')\n",
    "print('world')"
   ]
  },
  {
   "cell_type": "code",
   "execution_count": 1,
   "id": "9c4e2c53",
   "metadata": {},
   "outputs": [
    {
     "name": "stdout",
     "output_type": "stream",
     "text": [
      "hello-world\n"
     ]
    }
   ],
   "source": [
    "print('hello',end='-')\n",
    "print('world')"
   ]
  },
  {
   "cell_type": "markdown",
   "id": "0c71b30c",
   "metadata": {},
   "source": [
    "2. Data Types = Data type tells the kind of value a variable holds, like:\n",
    "\n",
    "int → whole numbers (e.g. 5)\n",
    "\n",
    "float → decimal numbers (e.g. 3.14)\n",
    "\n",
    "str → text or characters (e.g. \"Rohit\")\n",
    "\n",
    "bool → True or False values\n",
    "\n",
    "It helps Python understand how to store and work with the value."
   ]
  },
  {
   "cell_type": "code",
   "execution_count": 10,
   "id": "63a12e08",
   "metadata": {},
   "outputs": [
    {
     "name": "stdout",
     "output_type": "stream",
     "text": [
      "8\n"
     ]
    }
   ],
   "source": [
    "#Integer\n",
    "print(8)"
   ]
  },
  {
   "cell_type": "code",
   "execution_count": 11,
   "id": "07a42d21",
   "metadata": {},
   "outputs": [
    {
     "name": "stdout",
     "output_type": "stream",
     "text": [
      "8.55\n"
     ]
    }
   ],
   "source": [
    "#Decimal/Float\n",
    "print(8.55)"
   ]
  },
  {
   "cell_type": "code",
   "execution_count": 13,
   "id": "ca473146",
   "metadata": {},
   "outputs": [
    {
     "name": "stdout",
     "output_type": "stream",
     "text": [
      "True\n",
      "False\n"
     ]
    }
   ],
   "source": [
    "#Boolean\n",
    "print(True)\n",
    "print(False)"
   ]
  },
  {
   "cell_type": "code",
   "execution_count": 14,
   "id": "175bfea8",
   "metadata": {},
   "outputs": [
    {
     "name": "stdout",
     "output_type": "stream",
     "text": [
      "Hello\n"
     ]
    }
   ],
   "source": [
    "#Text/String\n",
    "print('Hello')"
   ]
  },
  {
   "cell_type": "code",
   "execution_count": 15,
   "id": "8ea873fa",
   "metadata": {},
   "outputs": [
    {
     "name": "stdout",
     "output_type": "stream",
     "text": [
      "(6+9j)\n"
     ]
    }
   ],
   "source": [
    "#Complex\n",
    "print(6+9j)"
   ]
  },
  {
   "cell_type": "code",
   "execution_count": null,
   "id": "7b48e2ab",
   "metadata": {},
   "outputs": [
    {
     "name": "stdout",
     "output_type": "stream",
     "text": [
      "[1, 2, 3, 4, 5, 6]\n"
     ]
    }
   ],
   "source": [
    "#List -> C -> Array\n",
    "print([1,2,3,4,5,6])"
   ]
  },
  {
   "cell_type": "code",
   "execution_count": 17,
   "id": "d65b8aa7",
   "metadata": {},
   "outputs": [
    {
     "name": "stdout",
     "output_type": "stream",
     "text": [
      "(1, 2, 3, 4, 5, 6)\n"
     ]
    }
   ],
   "source": [
    "#Tuple\n",
    "print((1,2,3,4,5,6))"
   ]
  },
  {
   "cell_type": "code",
   "execution_count": 18,
   "id": "6ca454fc",
   "metadata": {},
   "outputs": [
    {
     "name": "stdout",
     "output_type": "stream",
     "text": [
      "{1, 2, 3, 4, 5, 6}\n"
     ]
    }
   ],
   "source": [
    "#Sets\n",
    "print({1,2,3,4,5,6})"
   ]
  },
  {
   "cell_type": "code",
   "execution_count": 19,
   "id": "fddd9f12",
   "metadata": {},
   "outputs": [
    {
     "name": "stdout",
     "output_type": "stream",
     "text": [
      "{'name': 'Rohit', 'gender': 'Male', 'weight': 65}\n"
     ]
    }
   ],
   "source": [
    "#Dictionary\n",
    "print({'name' : 'Rohit','gender' : 'Male' , 'weight' : 65})"
   ]
  },
  {
   "cell_type": "code",
   "execution_count": 20,
   "id": "f5a4b3e4",
   "metadata": {},
   "outputs": [
    {
     "name": "stdout",
     "output_type": "stream",
     "text": [
      "None\n"
     ]
    }
   ],
   "source": [
    "print(None)"
   ]
  },
  {
   "cell_type": "code",
   "execution_count": 21,
   "id": "c8c79e7d",
   "metadata": {},
   "outputs": [
    {
     "data": {
      "text/plain": [
       "int"
      ]
     },
     "execution_count": 21,
     "metadata": {},
     "output_type": "execute_result"
    }
   ],
   "source": [
    "#type\n",
    "type(7)"
   ]
  },
  {
   "cell_type": "markdown",
   "id": "79b8fd7e",
   "metadata": {},
   "source": [
    "3. Variables = A variable is a name used to store a value in Python."
   ]
  },
  {
   "cell_type": "code",
   "execution_count": 22,
   "id": "65c74671",
   "metadata": {},
   "outputs": [
    {
     "name": "stdout",
     "output_type": "stream",
     "text": [
      "rohit\n"
     ]
    }
   ],
   "source": [
    "name = 'rohit'\n",
    "print(name)"
   ]
  },
  {
   "cell_type": "code",
   "execution_count": 23,
   "id": "7961d589",
   "metadata": {},
   "outputs": [
    {
     "name": "stdout",
     "output_type": "stream",
     "text": [
      "11\n"
     ]
    }
   ],
   "source": [
    "a=5\n",
    "b=6\n",
    "print(a+b)"
   ]
  },
  {
   "cell_type": "code",
   "execution_count": null,
   "id": "1087ac0f",
   "metadata": {},
   "outputs": [
    {
     "ename": "SyntaxError",
     "evalue": "invalid syntax (147486515.py, line 4)",
     "output_type": "error",
     "traceback": [
      "\u001b[1;36m  Cell \u001b[1;32mIn[26], line 4\u001b[1;36m\u001b[0m\n\u001b[1;33m    int a = 15\u001b[0m\n\u001b[1;37m        ^\u001b[0m\n\u001b[1;31mSyntaxError\u001b[0m\u001b[1;31m:\u001b[0m invalid syntax\n"
     ]
    }
   ],
   "source": [
    "#Dynamic Typing ( only supported in python)\n",
    "a=5\n",
    "\n",
    "#Static Typing (not supported)\n",
    "int a = 15 "
   ]
  },
  {
   "cell_type": "code",
   "execution_count": 31,
   "id": "0df5f3a1",
   "metadata": {},
   "outputs": [
    {
     "name": "stdout",
     "output_type": "stream",
     "text": [
      "5\n",
      "rohit\n"
     ]
    }
   ],
   "source": [
    "# ✅ Dynamic Binding in Python (This works)\n",
    "a = 5           # 'a' is an integer\n",
    "print(a)        # Output: 5\n",
    "\n",
    "a = 'rohit'     # Now 'a' is reassigned as a string\n",
    "print(a)        # Output: rohit\n",
    "\n",
    "# ❌ Static Binding is NOT supported in Python\n",
    "# In statically typed languages like Java or C, you can't change variable types like this.\n",
    "# Example in Java (will give error):\n",
    "# int a = 5;\n",
    "# a = \"rohit\"; // ❌ Error: incompatible types\n"
   ]
  },
  {
   "cell_type": "code",
   "execution_count": 32,
   "id": "97398470",
   "metadata": {},
   "outputs": [
    {
     "name": "stdout",
     "output_type": "stream",
     "text": [
      "1 2 3\n"
     ]
    }
   ],
   "source": [
    "a=1\n",
    "b=2\n",
    "c=3\n",
    "print(a,b,c)"
   ]
  },
  {
   "cell_type": "code",
   "execution_count": 33,
   "id": "19fa45a5",
   "metadata": {},
   "outputs": [
    {
     "name": "stdout",
     "output_type": "stream",
     "text": [
      "1 2 3\n"
     ]
    }
   ],
   "source": [
    "a,b,c = 1,2,3\n",
    "print(a,b,c)"
   ]
  },
  {
   "cell_type": "code",
   "execution_count": 34,
   "id": "29919200",
   "metadata": {},
   "outputs": [
    {
     "name": "stdout",
     "output_type": "stream",
     "text": [
      "5 5 5\n"
     ]
    }
   ],
   "source": [
    "a=b=c=5\n",
    "print(a,b,c)"
   ]
  },
  {
   "cell_type": "markdown",
   "id": "7ded3109",
   "metadata": {},
   "source": [
    "Comments"
   ]
  },
  {
   "cell_type": "code",
   "execution_count": 3,
   "id": "b4c631e1",
   "metadata": {},
   "outputs": [
    {
     "name": "stdout",
     "output_type": "stream",
     "text": [
      "10\n"
     ]
    }
   ],
   "source": [
    "#this is a comment\n",
    "a=4\n",
    "b=6\n",
    "print(a+b)"
   ]
  },
  {
   "cell_type": "markdown",
   "id": "b65eb24c",
   "metadata": {},
   "source": [
    "4. Keywords and Identifiers\n",
    "\n",
    "\n",
    "Keywords: Words that Python uses for its own meaning.\n",
    "❌ You can't use them as variable names.\n",
    "👉 Example: if, for, True, None\n",
    "(there are 32 reserved keywords in python)\n",
    "\n",
    "\n",
    "Identifiers: Names you give to variables, functions, etc.\n",
    "✅ Must start with a letter or _\n",
    "❌ Can’t start with a number."
   ]
  },
  {
   "cell_type": "markdown",
   "id": "062efb3f",
   "metadata": {},
   "source": [
    " 5. User Input"
   ]
  },
  {
   "cell_type": "code",
   "execution_count": 2,
   "id": "66883677",
   "metadata": {},
   "outputs": [
    {
     "data": {
      "text/plain": [
       "'rohit'"
      ]
     },
     "execution_count": 2,
     "metadata": {},
     "output_type": "execute_result"
    }
   ],
   "source": [
    "input()"
   ]
  },
  {
   "cell_type": "code",
   "execution_count": 3,
   "id": "48c255b6",
   "metadata": {},
   "outputs": [
    {
     "data": {
      "text/plain": [
       "'Rohit'"
      ]
     },
     "execution_count": 3,
     "metadata": {},
     "output_type": "execute_result"
    }
   ],
   "source": [
    "input('What is your name')"
   ]
  },
  {
   "cell_type": "code",
   "execution_count": null,
   "id": "61015a48",
   "metadata": {},
   "outputs": [
    {
     "name": "stdout",
     "output_type": "stream",
     "text": [
      "1212\n"
     ]
    }
   ],
   "source": [
    "#take input from users and store them in a variable\n",
    "fnum = input('Enter the first number')\n",
    "snum = input('Enter the second number')\n",
    "\n",
    "\n",
    "#add the 2 variables\n",
    "result = fnum + snum\n",
    "\n",
    "#print the result\n",
    "print(result)"
   ]
  },
  {
   "cell_type": "code",
   "execution_count": 13,
   "id": "20435152",
   "metadata": {},
   "outputs": [
    {
     "name": "stdout",
     "output_type": "stream",
     "text": [
      "<class 'str'> <class 'str'>\n",
      "24\n"
     ]
    }
   ],
   "source": [
    "#take input from users and store them in a variable\n",
    "fnum = input('Enter the first number')\n",
    "snum = input('Enter the second number')\n",
    "\n",
    "print(type(fnum),type(snum))\n",
    "\n",
    "\n",
    "#add the 2 variables\n",
    "result = int(fnum) + int(snum)\n",
    "\n",
    "#print the result\n",
    "print(result)"
   ]
  },
  {
   "cell_type": "markdown",
   "id": "190fc775",
   "metadata": {},
   "source": [
    "6.Type Conversion"
   ]
  },
  {
   "cell_type": "code",
   "execution_count": 8,
   "id": "6838835a",
   "metadata": {},
   "outputs": [
    {
     "name": "stdout",
     "output_type": "stream",
     "text": [
      "10.6\n",
      "<class 'int'> <class 'float'>\n"
     ]
    }
   ],
   "source": [
    "#Implicit VS Explicit\n",
    "\n",
    "print(5 + 5.6)\n",
    "\n",
    "print(type(5),type(5.6))\n"
   ]
  },
  {
   "cell_type": "code",
   "execution_count": 12,
   "id": "43bf2b24",
   "metadata": {},
   "outputs": [
    {
     "name": "stdout",
     "output_type": "stream",
     "text": [
      "<class 'int'>\n"
     ]
    }
   ],
   "source": [
    "#Explicit\n",
    "#str -> int \n",
    "type(int('4'))\n",
    "print(int)"
   ]
  },
  {
   "cell_type": "markdown",
   "id": "8b349580",
   "metadata": {},
   "source": [
    "7.Literals"
   ]
  },
  {
   "cell_type": "code",
   "execution_count": null,
   "id": "3ba701e3",
   "metadata": {},
   "outputs": [],
   "source": [
    "a = 0b1010 # binary literal\n",
    "b = 100 # decimal literal\n",
    "c = 0o310 # octal literal\n",
    "d = 0x12c # hexadecimal literal\n",
    "\n",
    "#float literal\n",
    "float_1 = 10.5\n",
    "float_2 = 1.5e2\n",
    "float_3 = 1.5e-3  "
   ]
  },
  {
   "cell_type": "code",
   "execution_count": null,
   "id": "c52050be",
   "metadata": {},
   "outputs": [
    {
     "name": "stdout",
     "output_type": "stream",
     "text": [
      "a :  5\n",
      "b :  10\n"
     ]
    }
   ],
   "source": [
    "a = True + 4\n",
    "b = False + 10\n",
    "\n",
    "print(\"a : \" , a )\n",
    "print(\"b : \" , b )"
   ]
  },
  {
   "cell_type": "code",
   "execution_count": 16,
   "id": "3bda8bee",
   "metadata": {},
   "outputs": [
    {
     "name": "stdout",
     "output_type": "stream",
     "text": [
      "None\n"
     ]
    }
   ],
   "source": [
    "a = None\n",
    "print(a)"
   ]
  },
  {
   "cell_type": "code",
   "execution_count": null,
   "id": "723e21c9",
   "metadata": {},
   "outputs": [],
   "source": []
  }
 ],
 "metadata": {
  "kernelspec": {
   "display_name": "base",
   "language": "python",
   "name": "python3"
  },
  "language_info": {
   "codemirror_mode": {
    "name": "ipython",
    "version": 3
   },
   "file_extension": ".py",
   "mimetype": "text/x-python",
   "name": "python",
   "nbconvert_exporter": "python",
   "pygments_lexer": "ipython3",
   "version": "3.12.4"
  }
 },
 "nbformat": 4,
 "nbformat_minor": 5
}
